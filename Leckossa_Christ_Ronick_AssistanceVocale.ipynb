{
 "cells": [
  {
   "cell_type": "markdown",
   "id": "2a4ed324",
   "metadata": {},
   "source": [
    "# Projet Python "
   ]
  },
  {
   "cell_type": "markdown",
   "id": "690cc15b",
   "metadata": {},
   "source": [
    "## Travail Personnel"
   ]
  },
  {
   "cell_type": "markdown",
   "id": "9ba07fbc",
   "metadata": {},
   "source": [
    "# Traduction de la voix en texte\n",
    "Christ Leckossa"
   ]
  },
  {
   "cell_type": "code",
   "execution_count": 6,
   "id": "dcbc53e1",
   "metadata": {},
   "outputs": [
    {
     "name": "stderr",
     "output_type": "stream",
     "text": [
      "ALSA lib pcm_dsnoop.c:601:(snd_pcm_dsnoop_open) unable to open slave\n",
      "ALSA lib pcm_dmix.c:1032:(snd_pcm_dmix_open) unable to open slave\n",
      "ALSA lib pcm.c:2664:(snd_pcm_open_noupdate) Unknown PCM cards.pcm.rear\n",
      "ALSA lib pcm.c:2664:(snd_pcm_open_noupdate) Unknown PCM cards.pcm.center_lfe\n",
      "ALSA lib pcm.c:2664:(snd_pcm_open_noupdate) Unknown PCM cards.pcm.side\n",
      "Cannot connect to server socket err = No such file or directory\n",
      "Cannot connect to server request channel\n",
      "jack server is not running or cannot be started\n",
      "JackShmReadWritePtr::~JackShmReadWritePtr - Init not done for -1, skipping unlock\n",
      "JackShmReadWritePtr::~JackShmReadWritePtr - Init not done for -1, skipping unlock\n",
      "Cannot connect to server socket err = No such file or directory\n",
      "Cannot connect to server request channel\n",
      "jack server is not running or cannot be started\n",
      "JackShmReadWritePtr::~JackShmReadWritePtr - Init not done for -1, skipping unlock\n",
      "JackShmReadWritePtr::~JackShmReadWritePtr - Init not done for -1, skipping unlock\n",
      "ALSA lib pcm_oss.c:397:(_snd_pcm_oss_open) Cannot open device /dev/dsp\n",
      "ALSA lib pcm_oss.c:397:(_snd_pcm_oss_open) Cannot open device /dev/dsp\n",
      "ALSA lib confmisc.c:160:(snd_config_get_card) Invalid field card\n",
      "ALSA lib pcm_usb_stream.c:482:(_snd_pcm_usb_stream_open) Invalid card 'card'\n",
      "ALSA lib confmisc.c:160:(snd_config_get_card) Invalid field card\n",
      "ALSA lib pcm_usb_stream.c:482:(_snd_pcm_usb_stream_open) Invalid card 'card'\n",
      "ALSA lib pcm_dmix.c:1032:(snd_pcm_dmix_open) unable to open slave\n",
      "Cannot connect to server socket err = No such file or directory\n",
      "Cannot connect to server request channel\n",
      "jack server is not running or cannot be started\n",
      "JackShmReadWritePtr::~JackShmReadWritePtr - Init not done for -1, skipping unlock\n",
      "JackShmReadWritePtr::~JackShmReadWritePtr - Init not done for -1, skipping unlock\n",
      "ALSA lib pcm_dsnoop.c:601:(snd_pcm_dsnoop_open) unable to open slave\n",
      "ALSA lib pcm_dmix.c:1032:(snd_pcm_dmix_open) unable to open slave\n",
      "ALSA lib pcm.c:2664:(snd_pcm_open_noupdate) Unknown PCM cards.pcm.rear\n",
      "ALSA lib pcm.c:2664:(snd_pcm_open_noupdate) Unknown PCM cards.pcm.center_lfe\n",
      "ALSA lib pcm.c:2664:(snd_pcm_open_noupdate) Unknown PCM cards.pcm.side\n",
      "Cannot connect to server socket err = No such file or directory\n",
      "Cannot connect to server request channel\n",
      "jack server is not running or cannot be started\n",
      "JackShmReadWritePtr::~JackShmReadWritePtr - Init not done for -1, skipping unlock\n",
      "JackShmReadWritePtr::~JackShmReadWritePtr - Init not done for -1, skipping unlock\n",
      "Cannot connect to server socket err = No such file or directory\n",
      "Cannot connect to server request channel\n",
      "jack server is not running or cannot be started\n",
      "JackShmReadWritePtr::~JackShmReadWritePtr - Init not done for -1, skipping unlock\n",
      "JackShmReadWritePtr::~JackShmReadWritePtr - Init not done for -1, skipping unlock\n",
      "ALSA lib pcm_oss.c:397:(_snd_pcm_oss_open) Cannot open device /dev/dsp\n",
      "ALSA lib pcm_oss.c:397:(_snd_pcm_oss_open) Cannot open device /dev/dsp\n",
      "ALSA lib confmisc.c:160:(snd_config_get_card) Invalid field card\n",
      "ALSA lib pcm_usb_stream.c:482:(_snd_pcm_usb_stream_open) Invalid card 'card'\n",
      "ALSA lib confmisc.c:160:(snd_config_get_card) Invalid field card\n",
      "ALSA lib pcm_usb_stream.c:482:(_snd_pcm_usb_stream_open) Invalid card 'card'\n",
      "ALSA lib pcm_dmix.c:1032:(snd_pcm_dmix_open) unable to open slave\n",
      "Cannot connect to server socket err = No such file or directory\n",
      "Cannot connect to server request channel\n",
      "jack server is not running or cannot be started\n",
      "JackShmReadWritePtr::~JackShmReadWritePtr - Init not done for -1, skipping unlock\n",
      "JackShmReadWritePtr::~JackShmReadWritePtr - Init not done for -1, skipping unlock\n"
     ]
    },
    {
     "name": "stdout",
     "output_type": "stream",
     "text": [
      "Dites quelque chose...\n",
      "result2:\n",
      "{   'alternative': [   {   'confidence': 0.8693015,\n",
      "                           'transcript': \"a dit il faut pas l'écouter\"},\n",
      "                       {'transcript': \"il faut pas l'écouter\"}],\n",
      "    'final': True}\n",
      "Vous avez dit : a dit il faut pas l'écouter\n"
     ]
    }
   ],
   "source": [
    "import speech_recognition as sr\n",
    "\n",
    "# Créer un objet Recognizer\n",
    "r = sr.Recognizer()\n",
    "\n",
    "# Utiliser le microphone de l'utilisateur comme source audio\n",
    "with sr.Microphone() as source:\n",
    "    print(\"Dites quelque chose...\")\n",
    "    audio = r.listen(source)  # Enregistre l'audio dans une variable\n",
    "\n",
    "# Transcrire la parole\n",
    "try:\n",
    "    text = r.recognize_google(audio, language=\"fr-FR\")  # Reconnaître la parole en français\n",
    "    print(\"Vous avez dit : \" + text)\n",
    "except sr.UnknownValueError:\n",
    "    print(\"Je n'ai pas compris ce que vous avez dit.\")\n",
    "except sr.RequestError as e:\n",
    "    print(\"Impossible de traiter la requête : {0}\".format(e))"
   ]
  },
  {
   "cell_type": "markdown",
   "id": "8057c2ee",
   "metadata": {},
   "source": [
    "#  Traduction Ecrit/Parole"
   ]
  },
  {
   "cell_type": "code",
   "execution_count": 10,
   "id": "3a9a3210",
   "metadata": {},
   "outputs": [
    {
     "name": "stdout",
     "output_type": "stream",
     "text": [
      "entrez: salut\n"
     ]
    }
   ],
   "source": [
    "import pyttsx3\n",
    "\n",
    "christ = pyttsx3.init()\n",
    "voice = christ.getProperty('voices')[1] # la voix en fr\n",
    "christ.setProperty('voice', voice.id)\n",
    "phrase=input(\"entrez: \")\n",
    "christ.say(\"{}\".format(phrase))\n",
    "christ.runAndWait()"
   ]
  },
  {
   "cell_type": "code",
   "execution_count": null,
   "id": "5ee9a352",
   "metadata": {},
   "outputs": [],
   "source": []
  },
  {
   "cell_type": "markdown",
   "id": "99b40617",
   "metadata": {},
   "source": [
    "### Approfondie"
   ]
  },
  {
   "cell_type": "code",
   "execution_count": null,
   "id": "b550e7c1",
   "metadata": {},
   "outputs": [],
   "source": [
    "# -*- coding: utf8 -*-\n",
    "import pyttsx3\n",
    "import speech_recognition as sr\n",
    "\n",
    "# initialise la reconnaissance vocale et synthese vocale\n",
    "r=sr.Recognizer()\n",
    "christ=pyttsx3.init()\n",
    "voice=christ.getProperty('voices')[2]\n",
    "christ.setProperty('voice', voice.id)\n",
    "\n",
    "# Fonction pour lire le texte avec la synthese vocale\n",
    "def parler(text):\n",
    "    christ.say(text)\n",
    "    christ.runAndWait()\n",
    "    \n",
    "# Fonction pour ecouter l'utilisateur et reconnaitre la parole\n",
    "\n",
    "\n",
    "def ecouter():\n",
    "    with sr.Microphone() as source:\n",
    "        print(\"Parlez maintenant...\")\n",
    "        r.adjust_for_ambient_noise(source)\n",
    "    try:\n",
    "        text=r.recognize_google(source, language='fr-FR')\n",
    "        print(\"Vous avez dit :{}\".format(text))\n",
    "        return text\n",
    "    except:\n",
    "        print(\"Je n'ai pas compris ce que vous avez dit.\")\n",
    "        return \"\"\n",
    "    \n",
    "# Fonction pour fournir l'actualite en temps reel\n",
    "def get_news():\n",
    "    pass\n",
    "    \n",
    "    \n",
    "# Boucle Principale\n",
    "while True:\n",
    "    # Ecoute l'utilisateur\n",
    "    text=ecouter().lower()\n",
    "    \n",
    "    # traitement de la commande de l'utilisateur\n",
    "    if \"bonjour\"in text:\n",
    "        parler(\"bonjour, Comment allez vous ?\")\n",
    "    elif \"ouvrir\" in text:\n",
    "        if \"firefox\" in text:\n",
    "            parler(\"ouverture de firefox....\")\n",
    "            os.system(\"firefox\")\n",
    "        elif \"editeur\" in text:\n",
    "            parler(\"ouverture de l'Editeur....\")\n",
    "            os.system(\"gedit\")\n",
    "        elif \"visual code\" in text:\n",
    "            parler(\"ouverture de visual code....\")\n",
    "            os.system(\"code\")\n",
    "    elif \"au revoir!\" in text:\n",
    "        break\n",
    "    elif \"actualite\" in text:\n",
    "        parler(\"Voici les dernieres actualites:\")\n",
    "        get_news()\n",
    "    else:\n",
    "        pass"
   ]
  }
 ],
 "metadata": {
  "kernelspec": {
   "display_name": "Python 3 (ipykernel)",
   "language": "python",
   "name": "python3"
  },
  "language_info": {
   "codemirror_mode": {
    "name": "ipython",
    "version": 3
   },
   "file_extension": ".py",
   "mimetype": "text/x-python",
   "name": "python",
   "nbconvert_exporter": "python",
   "pygments_lexer": "ipython3",
   "version": "3.10.6"
  }
 },
 "nbformat": 4,
 "nbformat_minor": 5
}
